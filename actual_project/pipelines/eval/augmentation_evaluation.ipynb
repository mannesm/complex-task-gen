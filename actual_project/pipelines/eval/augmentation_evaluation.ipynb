{
 "cells": [
  {
   "metadata": {},
   "cell_type": "code",
   "outputs": [],
   "execution_count": null,
   "source": [
    "import pandas as pd\n",
    "import matplotlib.pyplot as plt\n",
    "import seaborn as sns\n",
    "\n"
   ],
   "id": "c170d2f065a367"
  }
 ],
 "metadata": {},
 "nbformat": 5,
 "nbformat_minor": 9
}
