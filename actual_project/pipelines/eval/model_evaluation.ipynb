{
 "cells": [
  {
   "metadata": {
    "ExecuteTime": {
     "end_time": "2025-05-26T17:30:18.187047Z",
     "start_time": "2025-05-26T17:30:18.185639Z"
    }
   },
   "cell_type": "code",
   "source": "import pandas as pd",
   "id": "a03c6e436deb8f42",
   "outputs": [],
   "execution_count": 1
  },
  {
   "metadata": {},
   "cell_type": "code",
   "outputs": [],
   "execution_count": null,
   "source": "pd.read_csv('/Users/mannes/thesis/correlation_evaluation/Qwen7B_math_run.csv')",
   "id": "5bce2a2592d76b9f"
  }
 ],
 "metadata": {
  "kernelspec": {
   "name": "python3",
   "language": "python",
   "display_name": "Python 3 (ipykernel)"
  }
 },
 "nbformat": 5,
 "nbformat_minor": 9
}
