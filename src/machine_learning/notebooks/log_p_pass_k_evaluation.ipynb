{
 "cells": [
  {
   "cell_type": "code",
   "id": "initial_id",
   "metadata": {
    "collapsed": true,
    "ExecuteTime": {
     "end_time": "2025-02-13T22:18:43.568254Z",
     "start_time": "2025-02-13T22:18:43.512169Z"
    }
   },
   "source": [
    "import polars as pl\n",
    "import seaborn as sns\n",
    "import pandas as pd\n",
    "import matplotlib.pyplot as plt"
   ],
   "outputs": [],
   "execution_count": 1
  },
  {
   "metadata": {
    "ExecuteTime": {
     "end_time": "2025-02-13T22:18:43.574291Z",
     "start_time": "2025-02-13T22:18:43.571170Z"
    }
   },
   "cell_type": "code",
   "source": "from complex_task_gen.src.machine_learning.evaluation.pass_k import PassAtKCalculator",
   "id": "4152dc3655c85c0f",
   "outputs": [],
   "execution_count": 2
  },
  {
   "metadata": {
    "ExecuteTime": {
     "end_time": "2025-02-13T22:18:43.925179Z",
     "start_time": "2025-02-13T22:18:43.843360Z"
    }
   },
   "cell_type": "code",
   "source": [
    "df_evaluate_pass_k_log_p = pd.read_csv(\"/Users/mannes/thesis/complex_task_gen/src/machine_learning/output/evaluate_pass_k_log_p.csv\")\n",
    "df_log_p = pd.read_csv(\"/Users/mannes/thesis/complex_task_gen/src/machine_learning/output/log_probabilities.csv\")"
   ],
   "id": "a47aadd2dfa7cbb0",
   "outputs": [],
   "execution_count": 3
  },
  {
   "metadata": {
    "ExecuteTime": {
     "end_time": "2025-02-13T22:18:44.055703Z",
     "start_time": "2025-02-13T22:18:44.048900Z"
    }
   },
   "cell_type": "code",
   "source": "df_evaluate_pass_k_log_p.head(5)",
   "id": "8912fe1ded4e426",
   "outputs": [
    {
     "data": {
      "text/plain": [
       "   question_id  sample_number  \\\n",
       "0            0              0   \n",
       "1            0              1   \n",
       "2            0              2   \n",
       "3            0              3   \n",
       "4            0              4   \n",
       "\n",
       "                                            question  actual_answer  \\\n",
       "0  Natalia sold clips to 48 of her friends in Apr...             72   \n",
       "1  Natalia sold clips to 48 of her friends in Apr...             72   \n",
       "2  Natalia sold clips to 48 of her friends in Apr...             72   \n",
       "3  Natalia sold clips to 48 of her friends in Apr...             72   \n",
       "4  Natalia sold clips to 48 of her friends in Apr...             72   \n",
       "\n",
       "   generated_answer  correct_prediction  \\\n",
       "0              72.0                True   \n",
       "1              72.0                True   \n",
       "2              72.0                True   \n",
       "3              72.0                True   \n",
       "4              72.0                True   \n",
       "\n",
       "                                  actual_full_answer  \\\n",
       "0  Natalia sold 48/2 = <<48/2=24>>24 clips in May...   \n",
       "1  Natalia sold 48/2 = <<48/2=24>>24 clips in May...   \n",
       "2  Natalia sold 48/2 = <<48/2=24>>24 clips in May...   \n",
       "3  Natalia sold 48/2 = <<48/2=24>>24 clips in May...   \n",
       "4  Natalia sold 48/2 = <<48/2=24>>24 clips in May...   \n",
       "\n",
       "                               generated_full_answer  \n",
       "0  Let's solve this problem step by step.\\n\\n**St...  \n",
       "1  ### Step-by-Step Solution\\n\\n**Step 1: Determi...  \n",
       "2  ### Step-by-Step Solution\\n\\n**Step 1: Determi...  \n",
       "3  ### Step-by-Step Solution\\n\\n**Step 1: Determi...  \n",
       "4  ### Step-by-Step Solution\\n\\n**Step 1: Determi...  "
      ],
      "text/html": [
       "<div>\n",
       "<style scoped>\n",
       "    .dataframe tbody tr th:only-of-type {\n",
       "        vertical-align: middle;\n",
       "    }\n",
       "\n",
       "    .dataframe tbody tr th {\n",
       "        vertical-align: top;\n",
       "    }\n",
       "\n",
       "    .dataframe thead th {\n",
       "        text-align: right;\n",
       "    }\n",
       "</style>\n",
       "<table border=\"1\" class=\"dataframe\">\n",
       "  <thead>\n",
       "    <tr style=\"text-align: right;\">\n",
       "      <th></th>\n",
       "      <th>question_id</th>\n",
       "      <th>sample_number</th>\n",
       "      <th>question</th>\n",
       "      <th>actual_answer</th>\n",
       "      <th>generated_answer</th>\n",
       "      <th>correct_prediction</th>\n",
       "      <th>actual_full_answer</th>\n",
       "      <th>generated_full_answer</th>\n",
       "    </tr>\n",
       "  </thead>\n",
       "  <tbody>\n",
       "    <tr>\n",
       "      <th>0</th>\n",
       "      <td>0</td>\n",
       "      <td>0</td>\n",
       "      <td>Natalia sold clips to 48 of her friends in Apr...</td>\n",
       "      <td>72</td>\n",
       "      <td>72.0</td>\n",
       "      <td>True</td>\n",
       "      <td>Natalia sold 48/2 = &lt;&lt;48/2=24&gt;&gt;24 clips in May...</td>\n",
       "      <td>Let's solve this problem step by step.\\n\\n**St...</td>\n",
       "    </tr>\n",
       "    <tr>\n",
       "      <th>1</th>\n",
       "      <td>0</td>\n",
       "      <td>1</td>\n",
       "      <td>Natalia sold clips to 48 of her friends in Apr...</td>\n",
       "      <td>72</td>\n",
       "      <td>72.0</td>\n",
       "      <td>True</td>\n",
       "      <td>Natalia sold 48/2 = &lt;&lt;48/2=24&gt;&gt;24 clips in May...</td>\n",
       "      <td>### Step-by-Step Solution\\n\\n**Step 1: Determi...</td>\n",
       "    </tr>\n",
       "    <tr>\n",
       "      <th>2</th>\n",
       "      <td>0</td>\n",
       "      <td>2</td>\n",
       "      <td>Natalia sold clips to 48 of her friends in Apr...</td>\n",
       "      <td>72</td>\n",
       "      <td>72.0</td>\n",
       "      <td>True</td>\n",
       "      <td>Natalia sold 48/2 = &lt;&lt;48/2=24&gt;&gt;24 clips in May...</td>\n",
       "      <td>### Step-by-Step Solution\\n\\n**Step 1: Determi...</td>\n",
       "    </tr>\n",
       "    <tr>\n",
       "      <th>3</th>\n",
       "      <td>0</td>\n",
       "      <td>3</td>\n",
       "      <td>Natalia sold clips to 48 of her friends in Apr...</td>\n",
       "      <td>72</td>\n",
       "      <td>72.0</td>\n",
       "      <td>True</td>\n",
       "      <td>Natalia sold 48/2 = &lt;&lt;48/2=24&gt;&gt;24 clips in May...</td>\n",
       "      <td>### Step-by-Step Solution\\n\\n**Step 1: Determi...</td>\n",
       "    </tr>\n",
       "    <tr>\n",
       "      <th>4</th>\n",
       "      <td>0</td>\n",
       "      <td>4</td>\n",
       "      <td>Natalia sold clips to 48 of her friends in Apr...</td>\n",
       "      <td>72</td>\n",
       "      <td>72.0</td>\n",
       "      <td>True</td>\n",
       "      <td>Natalia sold 48/2 = &lt;&lt;48/2=24&gt;&gt;24 clips in May...</td>\n",
       "      <td>### Step-by-Step Solution\\n\\n**Step 1: Determi...</td>\n",
       "    </tr>\n",
       "  </tbody>\n",
       "</table>\n",
       "</div>"
      ]
     },
     "execution_count": 4,
     "metadata": {},
     "output_type": "execute_result"
    }
   ],
   "execution_count": 4
  },
  {
   "metadata": {
    "ExecuteTime": {
     "end_time": "2025-02-13T22:18:44.592999Z",
     "start_time": "2025-02-13T22:18:44.591268Z"
    }
   },
   "cell_type": "code",
   "source": [
    "# create a seaborn plot that calculates the pass@k metric for each question in the dataset\n",
    "pass_k = PassAtKCalculator(k=5)\n"
   ],
   "id": "ca42e15f7c5274ea",
   "outputs": [],
   "execution_count": 5
  },
  {
   "metadata": {
    "ExecuteTime": {
     "end_time": "2025-02-13T22:18:45.155211Z",
     "start_time": "2025-02-13T22:18:45.040205Z"
    }
   },
   "cell_type": "code",
   "source": "pass_k.compute_per_question(df_evaluate_pass_k_log_p)",
   "id": "e1b362b3c1427d7c",
   "outputs": [
    {
     "data": {
      "text/plain": [
       "     question_id  pass_at_k\n",
       "0              0        1.0\n",
       "1              1        1.0\n",
       "2              2        0.0\n",
       "3              3        0.0\n",
       "4              4        0.0\n",
       "..           ...        ...\n",
       "995          995        0.0\n",
       "996          996        0.0\n",
       "997          997        0.0\n",
       "998          998        1.0\n",
       "999          999        0.0\n",
       "\n",
       "[1000 rows x 2 columns]"
      ],
      "text/html": [
       "<div>\n",
       "<style scoped>\n",
       "    .dataframe tbody tr th:only-of-type {\n",
       "        vertical-align: middle;\n",
       "    }\n",
       "\n",
       "    .dataframe tbody tr th {\n",
       "        vertical-align: top;\n",
       "    }\n",
       "\n",
       "    .dataframe thead th {\n",
       "        text-align: right;\n",
       "    }\n",
       "</style>\n",
       "<table border=\"1\" class=\"dataframe\">\n",
       "  <thead>\n",
       "    <tr style=\"text-align: right;\">\n",
       "      <th></th>\n",
       "      <th>question_id</th>\n",
       "      <th>pass_at_k</th>\n",
       "    </tr>\n",
       "  </thead>\n",
       "  <tbody>\n",
       "    <tr>\n",
       "      <th>0</th>\n",
       "      <td>0</td>\n",
       "      <td>1.0</td>\n",
       "    </tr>\n",
       "    <tr>\n",
       "      <th>1</th>\n",
       "      <td>1</td>\n",
       "      <td>1.0</td>\n",
       "    </tr>\n",
       "    <tr>\n",
       "      <th>2</th>\n",
       "      <td>2</td>\n",
       "      <td>0.0</td>\n",
       "    </tr>\n",
       "    <tr>\n",
       "      <th>3</th>\n",
       "      <td>3</td>\n",
       "      <td>0.0</td>\n",
       "    </tr>\n",
       "    <tr>\n",
       "      <th>4</th>\n",
       "      <td>4</td>\n",
       "      <td>0.0</td>\n",
       "    </tr>\n",
       "    <tr>\n",
       "      <th>...</th>\n",
       "      <td>...</td>\n",
       "      <td>...</td>\n",
       "    </tr>\n",
       "    <tr>\n",
       "      <th>995</th>\n",
       "      <td>995</td>\n",
       "      <td>0.0</td>\n",
       "    </tr>\n",
       "    <tr>\n",
       "      <th>996</th>\n",
       "      <td>996</td>\n",
       "      <td>0.0</td>\n",
       "    </tr>\n",
       "    <tr>\n",
       "      <th>997</th>\n",
       "      <td>997</td>\n",
       "      <td>0.0</td>\n",
       "    </tr>\n",
       "    <tr>\n",
       "      <th>998</th>\n",
       "      <td>998</td>\n",
       "      <td>1.0</td>\n",
       "    </tr>\n",
       "    <tr>\n",
       "      <th>999</th>\n",
       "      <td>999</td>\n",
       "      <td>0.0</td>\n",
       "    </tr>\n",
       "  </tbody>\n",
       "</table>\n",
       "<p>1000 rows × 2 columns</p>\n",
       "</div>"
      ]
     },
     "execution_count": 6,
     "metadata": {},
     "output_type": "execute_result"
    }
   ],
   "execution_count": 6
  },
  {
   "metadata": {
    "ExecuteTime": {
     "end_time": "2025-02-13T22:20:35.667378Z",
     "start_time": "2025-02-13T22:20:35.554975Z"
    }
   },
   "cell_type": "code",
   "source": "df_pass_k = pass_k.compute_per_question(df_evaluate_pass_k_log_p)",
   "id": "5ad0c5bbb2c2ec2e",
   "outputs": [],
   "execution_count": 11
  },
  {
   "metadata": {
    "ExecuteTime": {
     "end_time": "2025-02-13T22:20:35.768633Z",
     "start_time": "2025-02-13T22:20:35.765695Z"
    }
   },
   "cell_type": "code",
   "source": "df_merged = df_pass_k.merge(df_log_p, on=\"question_id\")",
   "id": "2dc193bfdafe63b1",
   "outputs": [],
   "execution_count": 12
  },
  {
   "metadata": {
    "ExecuteTime": {
     "end_time": "2025-02-13T22:20:36.126965Z",
     "start_time": "2025-02-13T22:20:36.121238Z"
    }
   },
   "cell_type": "code",
   "source": "df_merged.head(5)",
   "id": "57108b6e05ce4c1c",
   "outputs": [
    {
     "data": {
      "text/plain": [
       "   question_id  pass_at_k                                           question  \\\n",
       "0            1        1.0  Natalia sold clips to 48 of her friends in Apr...   \n",
       "1            2        0.0  Weng earns $12 an hour for babysitting. Yester...   \n",
       "2            3        0.0  Betty is saving money for a new wallet which c...   \n",
       "3            4        0.0  Julie is reading a 120-page book. Yesterday, s...   \n",
       "4            5        1.0  James writes a 3-page letter to 2 different fr...   \n",
       "\n",
       "                                              answer  \\\n",
       "0  Natalia sold 48/2 = <<48/2=24>>24 clips in May...   \n",
       "1  Weng earns 12/60 = $<<12/60=0.2>>0.2 per minut...   \n",
       "2  In the beginning, Betty has only 100 / 2 = $<<...   \n",
       "3  Maila read 12 x 2 = <<12*2=24>>24 pages today....   \n",
       "4  He writes each friend 3*2=<<3*2=6>>6 pages a w...   \n",
       "\n",
       "                                    formatted_prompt  \\\n",
       "0  You are a math reasoning assistant. Your job i...   \n",
       "1  You are a math reasoning assistant. Your job i...   \n",
       "2  You are a math reasoning assistant. Your job i...   \n",
       "3  You are a math reasoning assistant. Your job i...   \n",
       "4  You are a math reasoning assistant. Your job i...   \n",
       "\n",
       "                                              tokens  \\\n",
       "0  ['ĠNatal', 'ia', 'Ġsold', 'Ġ', '4', '8', '/', ...   \n",
       "1  ['ĠW', 'eng', 'Ġearns', 'Ġ', '1', '2', '/', '6...   \n",
       "2  ['ĠIn', 'Ġthe', 'Ġbeginning', ',', 'ĠBetty', '...   \n",
       "3  ['ĠMail', 'a', 'Ġread', 'Ġ', '1', '2', 'Ġx', '...   \n",
       "4  ['ĠHe', 'Ġwrites', 'Ġeach', 'Ġfriend', 'Ġ', '3...   \n",
       "\n",
       "                                               log_p   log_p_sum  num_tokens  \\\n",
       "0  [-8.467673301696777, -1.728519782773219e-05, -...  -86.942986          60   \n",
       "1  [-3.3418960571289062, -1.966933996300213e-05, ... -113.237722          66   \n",
       "2  [-7.634197235107422, -3.7739145755767822, -3.2... -158.280323         102   \n",
       "3  [-13.935783386230469, -6.718859672546387, -7.9... -152.460955         128   \n",
       "4  [-9.451736450195312, -0.007255277596414089, -7... -140.509967          79   \n",
       "\n",
       "   avg_log_p  perplexity  \n",
       "0  -1.449050    4.259066  \n",
       "1  -1.715723    5.560695  \n",
       "2  -1.551768    4.719807  \n",
       "3  -1.191101    3.290703  \n",
       "4  -1.778607    5.921603  "
      ],
      "text/html": [
       "<div>\n",
       "<style scoped>\n",
       "    .dataframe tbody tr th:only-of-type {\n",
       "        vertical-align: middle;\n",
       "    }\n",
       "\n",
       "    .dataframe tbody tr th {\n",
       "        vertical-align: top;\n",
       "    }\n",
       "\n",
       "    .dataframe thead th {\n",
       "        text-align: right;\n",
       "    }\n",
       "</style>\n",
       "<table border=\"1\" class=\"dataframe\">\n",
       "  <thead>\n",
       "    <tr style=\"text-align: right;\">\n",
       "      <th></th>\n",
       "      <th>question_id</th>\n",
       "      <th>pass_at_k</th>\n",
       "      <th>question</th>\n",
       "      <th>answer</th>\n",
       "      <th>formatted_prompt</th>\n",
       "      <th>tokens</th>\n",
       "      <th>log_p</th>\n",
       "      <th>log_p_sum</th>\n",
       "      <th>num_tokens</th>\n",
       "      <th>avg_log_p</th>\n",
       "      <th>perplexity</th>\n",
       "    </tr>\n",
       "  </thead>\n",
       "  <tbody>\n",
       "    <tr>\n",
       "      <th>0</th>\n",
       "      <td>1</td>\n",
       "      <td>1.0</td>\n",
       "      <td>Natalia sold clips to 48 of her friends in Apr...</td>\n",
       "      <td>Natalia sold 48/2 = &lt;&lt;48/2=24&gt;&gt;24 clips in May...</td>\n",
       "      <td>You are a math reasoning assistant. Your job i...</td>\n",
       "      <td>['ĠNatal', 'ia', 'Ġsold', 'Ġ', '4', '8', '/', ...</td>\n",
       "      <td>[-8.467673301696777, -1.728519782773219e-05, -...</td>\n",
       "      <td>-86.942986</td>\n",
       "      <td>60</td>\n",
       "      <td>-1.449050</td>\n",
       "      <td>4.259066</td>\n",
       "    </tr>\n",
       "    <tr>\n",
       "      <th>1</th>\n",
       "      <td>2</td>\n",
       "      <td>0.0</td>\n",
       "      <td>Weng earns $12 an hour for babysitting. Yester...</td>\n",
       "      <td>Weng earns 12/60 = $&lt;&lt;12/60=0.2&gt;&gt;0.2 per minut...</td>\n",
       "      <td>You are a math reasoning assistant. Your job i...</td>\n",
       "      <td>['ĠW', 'eng', 'Ġearns', 'Ġ', '1', '2', '/', '6...</td>\n",
       "      <td>[-3.3418960571289062, -1.966933996300213e-05, ...</td>\n",
       "      <td>-113.237722</td>\n",
       "      <td>66</td>\n",
       "      <td>-1.715723</td>\n",
       "      <td>5.560695</td>\n",
       "    </tr>\n",
       "    <tr>\n",
       "      <th>2</th>\n",
       "      <td>3</td>\n",
       "      <td>0.0</td>\n",
       "      <td>Betty is saving money for a new wallet which c...</td>\n",
       "      <td>In the beginning, Betty has only 100 / 2 = $&lt;&lt;...</td>\n",
       "      <td>You are a math reasoning assistant. Your job i...</td>\n",
       "      <td>['ĠIn', 'Ġthe', 'Ġbeginning', ',', 'ĠBetty', '...</td>\n",
       "      <td>[-7.634197235107422, -3.7739145755767822, -3.2...</td>\n",
       "      <td>-158.280323</td>\n",
       "      <td>102</td>\n",
       "      <td>-1.551768</td>\n",
       "      <td>4.719807</td>\n",
       "    </tr>\n",
       "    <tr>\n",
       "      <th>3</th>\n",
       "      <td>4</td>\n",
       "      <td>0.0</td>\n",
       "      <td>Julie is reading a 120-page book. Yesterday, s...</td>\n",
       "      <td>Maila read 12 x 2 = &lt;&lt;12*2=24&gt;&gt;24 pages today....</td>\n",
       "      <td>You are a math reasoning assistant. Your job i...</td>\n",
       "      <td>['ĠMail', 'a', 'Ġread', 'Ġ', '1', '2', 'Ġx', '...</td>\n",
       "      <td>[-13.935783386230469, -6.718859672546387, -7.9...</td>\n",
       "      <td>-152.460955</td>\n",
       "      <td>128</td>\n",
       "      <td>-1.191101</td>\n",
       "      <td>3.290703</td>\n",
       "    </tr>\n",
       "    <tr>\n",
       "      <th>4</th>\n",
       "      <td>5</td>\n",
       "      <td>1.0</td>\n",
       "      <td>James writes a 3-page letter to 2 different fr...</td>\n",
       "      <td>He writes each friend 3*2=&lt;&lt;3*2=6&gt;&gt;6 pages a w...</td>\n",
       "      <td>You are a math reasoning assistant. Your job i...</td>\n",
       "      <td>['ĠHe', 'Ġwrites', 'Ġeach', 'Ġfriend', 'Ġ', '3...</td>\n",
       "      <td>[-9.451736450195312, -0.007255277596414089, -7...</td>\n",
       "      <td>-140.509967</td>\n",
       "      <td>79</td>\n",
       "      <td>-1.778607</td>\n",
       "      <td>5.921603</td>\n",
       "    </tr>\n",
       "  </tbody>\n",
       "</table>\n",
       "</div>"
      ]
     },
     "execution_count": 13,
     "metadata": {},
     "output_type": "execute_result"
    }
   ],
   "execution_count": 13
  },
  {
   "metadata": {
    "ExecuteTime": {
     "end_time": "2025-02-13T22:20:36.480241Z",
     "start_time": "2025-02-13T22:20:36.476731Z"
    }
   },
   "cell_type": "code",
   "source": [
    "\n",
    "df_average = df_merged.groupby(\"question_id\")\n",
    "df_aggregated = df_merged.groupby(\"question_id\")[\"avg_log_p\",\"perplexity\", 'pass_at_k'].mean().reset_index()\n"
   ],
   "id": "cf5a7a948191f57",
   "outputs": [
    {
     "name": "stderr",
     "output_type": "stream",
     "text": [
      "/var/folders/p2/3shqc8ns30gdq6_2bbzfhym80000gp/T/ipykernel_34542/3629590704.py:2: FutureWarning: Indexing with multiple keys (implicitly converted to a tuple of keys) will be deprecated, use a list instead.\n",
      "  df_aggregated = df_merged.groupby(\"question_id\")[\"avg_log_p\",\"perplexity\", 'pass_at_k'].mean().reset_index()\n"
     ]
    }
   ],
   "execution_count": 14
  },
  {
   "metadata": {
    "ExecuteTime": {
     "end_time": "2025-02-13T22:20:59.514370Z",
     "start_time": "2025-02-13T22:20:59.468367Z"
    }
   },
   "cell_type": "code",
   "source": "sns.scatterplot(data=df_aggregated, y=\"pass_at_k\", x=\"avg_log_p\")",
   "id": "87a6b5c392b4df89",
   "outputs": [
    {
     "data": {
      "text/plain": [
       "<Axes: xlabel='avg_log_p', ylabel='pass_at_k'>"
      ]
     },
     "execution_count": 16,
     "metadata": {},
     "output_type": "execute_result"
    },
    {
     "data": {
      "text/plain": [
       "<Figure size 640x480 with 1 Axes>"
      ],
      "image/png": "[encoded data removed]"
     },
     "metadata": {},
     "output_type": "display_data"
    }
   ],
   "execution_count": 16
  },
  {
   "metadata": {},
   "cell_type": "code",
   "outputs": [],
   "execution_count": null,
   "source": "",
   "id": "8a8a058caec54c19"
  }
 ],
 "metadata": {
  "kernelspec": {
   "display_name": "Python 3",
   "language": "python",
   "name": "python3"
  },
  "language_info": {
   "codemirror_mode": {
    "name": "ipython",
    "version": 2
   },
   "file_extension": ".py",
   "mimetype": "text/x-python",
   "name": "python",
   "nbconvert_exporter": "python",
   "pygments_lexer": "ipython2",
   "version": "2.7.6"
  }
 },
 "nbformat": 4,
 "nbformat_minor": 5
}
